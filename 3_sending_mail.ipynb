{
 "cells": [
  {
   "cell_type": "code",
   "execution_count": null,
   "metadata": {},
   "outputs": [],
   "source": [
    "import smtplib"
   ]
  },
  {
   "cell_type": "code",
   "execution_count": 2,
   "metadata": {},
   "outputs": [],
   "source": [
    "import os\n",
    "import mimetypes\n",
    "from email.message import EmailMessage"
   ]
  },
  {
   "cell_type": "code",
   "execution_count": null,
   "metadata": {},
   "outputs": [],
   "source": [
    "SMTP_SERVER=\"smtp.gmail.com\"\n",
    "SMTP_PORT=587\n",
    "SENDER_EMAIL=\"bigdataonfleet@gmail.com\"\n",
    "SENDER_PASSWORD =\"64ghostroads##\"  # Use an App Password if using Gmail\n",
    "RECIPIENT_EMAIL = \"warticcotaky@gmail.com\"\n",
    "SUBJECT = \"Test Email with Attachment\"\n",
    "BODY = \"Hello,\\n\\nPlease find the attached file.\\n\\nBest regards.\"\n",
    "ATTACHMENT_PATH = \"sample_data.csv\"\n",
    "msg = EmailMessage()\n",
    "msg[\"From\"] = SENDER_EMAIL\n",
    "msg[\"To\"] = RECIPIENT_EMAIL\n",
    "msg[\"Subject\"] = SUBJECT\n",
    "msg.set_content(BODY)\n"
   ]
  },
  {
   "cell_type": "code",
   "execution_count": 4,
   "metadata": {},
   "outputs": [
    {
     "name": "stdout",
     "output_type": "stream",
     "text": [
      "Error: (535, b'5.7.8 Username and Password not accepted. For more information, go to\\n5.7.8  https://support.google.com/mail/?p=BadCredentials d2e1a72fcca58-7371169549fsm8875043b3a.131 - gsmtp')\n"
     ]
    }
   ],
   "source": [
    "# Attach File\n",
    "if os.path.exists(ATTACHMENT_PATH):\n",
    "    mime_type, _ = mimetypes.guess_type(ATTACHMENT_PATH)\n",
    "    mime_type = mime_type or \"application/octet-stream\"\n",
    "    \n",
    "    with open(ATTACHMENT_PATH, \"rb\") as attachment:\n",
    "        msg.add_attachment(attachment.read(),\n",
    "                           maintype=mime_type.split(\"/\")[0],\n",
    "                           subtype=mime_type.split(\"/\")[1],\n",
    "                           filename=os.path.basename(ATTACHMENT_PATH))\n",
    "else:\n",
    "    print(f\"File not found: {ATTACHMENT_PATH}\")\n",
    "\n",
    "# Send Email\n",
    "try:\n",
    "    with smtplib.SMTP(SMTP_SERVER, SMTP_PORT) as server:\n",
    "        server.starttls()  # Secure connection\n",
    "        server.login(SENDER_EMAIL, SENDER_PASSWORD)\n",
    "        server.send_message(msg)\n",
    "        print(\"Email sent successfully!\")\n",
    "except Exception as e:\n",
    "    print(f\"Error: {e}\")"
   ]
  },
  {
   "cell_type": "code",
   "execution_count": null,
   "metadata": {},
   "outputs": [],
   "source": []
  }
 ],
 "metadata": {
  "kernelspec": {
   "display_name": "base",
   "language": "python",
   "name": "python3"
  },
  "language_info": {
   "codemirror_mode": {
    "name": "ipython",
    "version": 3
   },
   "file_extension": ".py",
   "mimetype": "text/x-python",
   "name": "python",
   "nbconvert_exporter": "python",
   "pygments_lexer": "ipython3",
   "version": "3.12.7"
  }
 },
 "nbformat": 4,
 "nbformat_minor": 2
}
