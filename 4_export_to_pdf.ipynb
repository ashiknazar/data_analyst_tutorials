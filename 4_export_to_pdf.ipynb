{
 "cells": [
  {
   "cell_type": "code",
   "execution_count": null,
   "metadata": {},
   "outputs": [],
   "source": [
    "import win32com.client as win32\n",
    "import os\n",
    "# Define the file paths\n",
    "excel_path = \"sty.xlsx\"  # Change to your file name\n",
    "pdf_path = os.path.splitext(excel_path)[0] + \".pdf\" \n",
    "# Open Excel and convert to PDF\n",
    "excel = win32.Dispatch(\"Excel.Application\")\n",
    "excel.Visible = False  # Run in the background\n",
    "wb = excel.Workbooks.Open(os.path.abspath(excel_path))\n",
    "wb.ExportAsFixedFormat(0, os.path.abspath(pdf_path))  # Export as PDF\n",
    "wb.Close()\n",
    "excel.Quit()"
   ]
  },
  {
   "cell_type": "code",
   "execution_count": 2,
   "metadata": {},
   "outputs": [
    {
     "name": "stdout",
     "output_type": "stream",
     "text": [
      "✅ Excel converted to PDF: styled_data.pdf\n"
     ]
    }
   ],
   "source": [
    "import pandas as pd\n",
    "from reportlab.lib.pagesizes import letter\n",
    "from reportlab.pdfgen import canvas\n",
    "\n",
    "# Load Excel file\n",
    "excel_path = \"sty.xlsx\"\n",
    "df = pd.read_excel(excel_path)\n",
    "\n",
    "# Define PDF output\n",
    "pdf_path = \"styled_data.pdf\"\n",
    "c = canvas.Canvas(pdf_path, pagesize=letter)\n",
    "width, height = letter\n",
    "\n",
    "# Write Data to PDF\n",
    "c.setFont(\"Helvetica\", 10)\n",
    "y = height - 40  # Starting position\n",
    "\n",
    "for i, row in df.iterrows():\n",
    "    row_text = \" | \".join(str(x) for x in row.values)\n",
    "    c.drawString(40, y, row_text)\n",
    "    y -= 20\n",
    "    if y < 40:  # Move to next page if needed\n",
    "        c.showPage()\n",
    "        c.setFont(\"Helvetica\", 10)\n",
    "        y = height - 40\n",
    "\n",
    "c.save()\n",
    "print(f\"✅ Excel converted to PDF: {pdf_path}\")\n"
   ]
  },
  {
   "cell_type": "code",
   "execution_count": null,
   "metadata": {},
   "outputs": [],
   "source": []
  }
 ],
 "metadata": {
  "kernelspec": {
   "display_name": "base",
   "language": "python",
   "name": "python3"
  },
  "language_info": {
   "codemirror_mode": {
    "name": "ipython",
    "version": 3
   },
   "file_extension": ".py",
   "mimetype": "text/x-python",
   "name": "python",
   "nbconvert_exporter": "python",
   "pygments_lexer": "ipython3",
   "version": "3.12.7"
  }
 },
 "nbformat": 4,
 "nbformat_minor": 2
}
