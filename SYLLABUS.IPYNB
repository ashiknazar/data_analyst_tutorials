{
 "cells": [
  {
   "cell_type": "markdown",
   "metadata": {},
   "source": [
    "- DATA MANIPULATION\n",
    "   - groupby(),pivot_table()\n",
    "- AUTOMATING REPORTS\n",
    "   - EXPORTING DATA TO EXCEL(OPENPYXL &XLSXWriter)\n",
    "   - create a python script to generate daily report\n",
    "   - sending report via email (smtplib)\n",
    "       - use password as environment variable or oAuth instead of hardcode\n",
    "   -  Exporting Reports as pdfs\n",
    "       - (pdfkit or ReportLab)\n",
    "   - create windows task schduler"
   ]
  },
  {
   "cell_type": "markdown",
   "metadata": {},
   "source": []
  }
 ],
 "metadata": {
  "language_info": {
   "name": "python"
  }
 },
 "nbformat": 4,
 "nbformat_minor": 2
}
